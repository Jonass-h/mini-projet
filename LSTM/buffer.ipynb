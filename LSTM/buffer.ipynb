{
 "cells": [
  {
   "cell_type": "code",
   "execution_count": 205,
   "metadata": {},
   "outputs": [],
   "source": [
    "ctx = {\n",
    "    '1':[1],\n",
    "    '2':[2]\n",
    "}\n",
    "\n",
    "keys = [k for k,v in ctx.items()]"
   ]
  },
  {
   "cell_type": "code",
   "execution_count": null,
   "metadata": {},
   "outputs": [],
   "source": []
  },
  {
   "cell_type": "code",
   "execution_count": 206,
   "metadata": {},
   "outputs": [],
   "source": [
    "new_id = '3'\n",
    "new_pose = 6\n",
    "\n",
    "num_person = 2\n",
    "import random\n",
    "if new_id in ctx:\n",
    "    if(len(ctx[new_id]) >= 4):\n",
    "        print(f\"predection for {new_id}\")\n",
    "        ctx[new_id].pop(0)\n",
    "    ctx[new_id].append(new_pose)\n",
    "else :\n",
    "    if len(buffer) == num_person:\n",
    "        random.shuffle(keys)\n",
    "        key = keys.pop(0)\n",
    "        ctx.pop(key)\n",
    "    \n",
    "    ctx[new_id] = [new_pose]"
   ]
  },
  {
   "cell_type": "code",
   "execution_count": null,
   "metadata": {},
   "outputs": [],
   "source": []
  }
 ],
 "metadata": {
  "kernelspec": {
   "display_name": "Python 3",
   "language": "python",
   "name": "python3"
  },
  "language_info": {
   "codemirror_mode": {
    "name": "ipython",
    "version": 3
   },
   "file_extension": ".py",
   "mimetype": "text/x-python",
   "name": "python",
   "nbconvert_exporter": "python",
   "pygments_lexer": "ipython3",
   "version": "3.7.4"
  }
 },
 "nbformat": 4,
 "nbformat_minor": 2
}
